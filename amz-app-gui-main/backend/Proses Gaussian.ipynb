{
 "cells": [
  {
   "cell_type": "code",
   "execution_count": 2,
   "metadata": {},
   "outputs": [
    {
     "data": {
      "text/plain": [
       "['GaussianModel.joblib']"
      ]
     },
     "execution_count": 2,
     "metadata": {},
     "output_type": "execute_result"
    }
   ],
   "source": [
    "import pandas as pd\n",
    "import numpy as np\n",
    "from sklearn.preprocessing import LabelEncoder\n",
    "from sklearn.gaussian_process import GaussianProcessRegressor\n",
    "from sklearn.gaussian_process.kernels import RBF\n",
    "from joblib import dump\n",
    "\n",
    "# Read the data from CSV\n",
    "data = pd.read_csv('Single_Frugal.csv', sep=';')\n",
    "\n",
    "# Preprocess the data\n",
    "label_encoder = LabelEncoder()\n",
    "data['Status'] = label_encoder.fit_transform(data['Status'])\n",
    "data['Country'] = label_encoder.fit_transform(data['Country'])\n",
    "data['Region'] = label_encoder.fit_transform(data['Region'])\n",
    "data['Spend Type'] = label_encoder.fit_transform(data['Spend Type'])\n",
    "\n",
    "# Extract the input features (Age, Status, Country, Region, Spend Type, Income)\n",
    "X = data[['Age', 'Status', 'Country', 'Region', 'Spend Type', 'Income']].values\n",
    "\n",
    "# Extract the output features (Foods, House Bills, Water & Electricity, Entertainment, Savings, Insurance, Transportation, Education, Emergency Fund, Invest, Partner)\n",
    "y = data[['Foods', 'House Bills', 'Water & Electricity', 'Entertainment', 'Savings', 'Insurance', 'Transportation', 'Education', 'Emergency Fund', 'Invest', 'Partner']].values\n",
    "\n",
    "# Create Gaussian Process regressor\n",
    "kernel = RBF()\n",
    "gp = GaussianProcessRegressor(kernel=kernel)\n",
    "gp.fit(X, y)\n",
    "\n",
    "# Save the model as \"GaussianModel.joblib\"\n",
    "dump(gp, \"GaussianModel.joblib\")"
   ]
  },
  {
   "cell_type": "code",
   "execution_count": 4,
   "metadata": {},
   "outputs": [
    {
     "name": "stdout",
     "output_type": "stream",
     "text": [
      "6164999.999383501\n",
      "Prediction for input: [     20       0       0       0       0 6165000]\n",
      "Foods: 899999.99991\n",
      "House Bills: 2099999.99979\n",
      "Water & Electricity: 799999.9999200001\n",
      "Entertainment: 999999.9998999999\n",
      "Savings: 279999.999972\n",
      "Insurance: 99999.99999000001\n",
      "Transportation: 449999.999955\n",
      "Education: 144999.9999855\n",
      "Emergency Fund: 89999.99999099999\n",
      "Invest: 299999.99997\n",
      "Partner: 0.0\n",
      "\n"
     ]
    }
   ],
   "source": [
    "from joblib import load\n",
    "\n",
    "# Load the model\n",
    "gp = load(\"GaussianModel.joblib\")\n",
    "\n",
    "# Now you can use the loaded model for predictions or other tasks\n",
    "# For example:\n",
    "# New input for prediction\n",
    "X_new = np.array([[20, 0, 0, 0, 0, 6165000]])\n",
    "# Predictions for the new input\n",
    "y_pred, y_std = gp.predict(X_new, return_std=True)\n",
    "\n",
    "\n",
    "# Print the predicted results\n",
    "for i in range(len(X_new)):\n",
    "    print(sum(y_pred[i,]))\n",
    "    print(\"Prediction for input:\", X_new[i])\n",
    "    print(\"Foods:\", y_pred[i, 0])\n",
    "    print(\"House Bills:\", y_pred[i, 1])\n",
    "    print(\"Water & Electricity:\", y_pred[i, 2])\n",
    "    print(\"Entertainment:\", y_pred[i, 3])\n",
    "    print(\"Savings:\", y_pred[i, 4])\n",
    "    print(\"Insurance:\", y_pred[i, 5])\n",
    "    print(\"Transportation:\", y_pred[i, 6])\n",
    "    print(\"Education:\", y_pred[i, 7])\n",
    "    print(\"Emergency Fund:\", y_pred[i, 8])\n",
    "    print(\"Invest:\", y_pred[i, 9])\n",
    "    print(\"Partner:\", y_pred[i, 10])\n",
    "    print()"
   ]
  }
 ],
 "metadata": {
  "kernelspec": {
   "display_name": "Python 3",
   "language": "python",
   "name": "python3"
  },
  "language_info": {
   "codemirror_mode": {
    "name": "ipython",
    "version": 3
   },
   "file_extension": ".py",
   "mimetype": "text/x-python",
   "name": "python",
   "nbconvert_exporter": "python",
   "pygments_lexer": "ipython3",
   "version": "3.11.1"
  },
  "orig_nbformat": 4
 },
 "nbformat": 4,
 "nbformat_minor": 2
}
