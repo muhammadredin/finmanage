{
 "cells": [
  {
   "cell_type": "code",
   "execution_count": null,
   "metadata": {},
   "outputs": [],
   "source": [
    "import pandas as pd\n",
    "import numpy as np\n",
    "from sklearn.preprocessing import MinMaxScaler\n",
    "from tensorflow.keras.models import Sequential\n",
    "from tensorflow.keras.layers import LSTM, Dense"
   ]
  },
  {
   "cell_type": "code",
   "execution_count": null,
   "metadata": {},
   "outputs": [],
   "source": [
    "data = pd.read_csv('FINPROJ_rev.csv')\n",
    "\n",
    "# Remove rows with NaN values\n",
    "data = data.dropna()\n",
    "\n",
    "# Select only integer features\n",
    "data = data.select_dtypes(exclude=['object']).copy()"
   ]
  },
  {
   "cell_type": "code",
   "execution_count": null,
   "metadata": {},
   "outputs": [],
   "source": [
    "# Extract input and output data\n",
    "X = data.iloc[:-1, :].values\n",
    "y = data.iloc[1:, :].values\n",
    "\n",
    "# Scale the data\n",
    "scaler = MinMaxScaler()\n",
    "X_scaled = scaler.fit_transform(X)\n",
    "y_scaled = scaler.transform(y)\n",
    "\n",
    "# Reshape the data to match LSTM input shape [samples, time steps, features]\n",
    "X_reshaped = np.reshape(X_scaled, (X_scaled.shape[0], 1, X_scaled.shape[1]))\n",
    "y_reshaped = np.reshape(y_scaled, (y_scaled.shape[0], y_scaled.shape[1]))\n",
    "\n",
    "# Split the data into training and test sets\n",
    "test_size = int(len(X) * 0.02) # 20% of data as test set\n",
    "X_train, X_test, y_train, y_test = X_reshaped[:-test_size], X_reshaped[-test_size:], y_reshaped[:-test_size], y_reshaped[-test_size:]\n",
    "print(X_train.shape, X_test.shape, y_train.shape, y_test.shape)"
   ]
  },
  {
   "cell_type": "code",
   "execution_count": null,
   "metadata": {},
   "outputs": [],
   "source": [
    "model = Sequential()\n",
    "\n",
    "# Add LSTM layers\n",
    "model.add(LSTM(32, return_sequences=True, input_shape=(X_train.shape[1], X_train.shape[2])))\n",
    "model.add(Dense(64))\n",
    "model.add(Dense(128))\n",
    "model.add(Dense(64))\n",
    "model.add(LSTM(32))\n",
    "\n",
    "# Add output layer\n",
    "model.add(Dense(y_train.shape[1]))\n",
    "\n",
    "# Compile the model\n",
    "model.compile(optimizer='adam', loss='mse')"
   ]
  },
  {
   "cell_type": "code",
   "execution_count": null,
   "metadata": {},
   "outputs": [],
   "source": [
    "model.fit(X_train, y_train, epochs=10, batch_size=1)"
   ]
  },
  {
   "cell_type": "code",
   "execution_count": null,
   "metadata": {},
   "outputs": [],
   "source": [
    "loss = model.evaluate(X_test, y_test)\n",
    "print(f'Test Loss: {loss:.4f}')"
   ]
  },
  {
   "cell_type": "code",
   "execution_count": null,
   "metadata": {},
   "outputs": [],
   "source": [
    "y_pred = model.predict(X_train)\n",
    "y_pred_actual = scaler.inverse_transform(y_pred)\n",
    "y_test_actual = scaler.inverse_transform(y_train)\n",
    "import matplotlib.pyplot as plt\n",
    "\n",
    "# Assuming your dataset has multiple features, you can choose one to plot\n",
    "for feature_index in range(len(data.columns)):\n",
    "\tplt.figure(figsize=(10, 6))\n",
    "\tplt.plot(y_test_actual[:, feature_index], label='Original Data')\n",
    "\tplt.plot(y_pred_actual[:, feature_index], label='Predicted Data')\n",
    "\tplt.xlabel('Time Step')\n",
    "\tplt.ylabel('Value')\n",
    "\tplt.title(f'Predicted vs Original Data for Feature {data.columns[feature_index]}')\n",
    "\tplt.legend()\n",
    "\tplt.grid(True)\n",
    "\tplt.show()"
   ]
  },
  {
   "cell_type": "code",
   "execution_count": null,
   "metadata": {},
   "outputs": [],
   "source": [
    "from tensorflow.keras.models import load_model\n",
    "model = load_model('tmp1.h5')"
   ]
  },
  {
   "cell_type": "code",
   "execution_count": null,
   "metadata": {},
   "outputs": [],
   "source": [
    "model.save('tmp1.h5')"
   ]
  }
 ],
 "metadata": {
  "language_info": {
   "name": "python"
  },
  "orig_nbformat": 4
 },
 "nbformat": 4,
 "nbformat_minor": 2
}
